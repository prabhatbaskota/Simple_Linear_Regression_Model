{
 "cells": [
  {
   "cell_type": "code",
   "execution_count": 17,
   "id": "2b728ce3",
   "metadata": {},
   "outputs": [],
   "source": [
    "import pandas as pd\n",
    "from sklearn.model_selection import train_test_split\n",
    "from sklearn.linear_model import LinearRegression\n",
    "import matplotlib.pyplot as plt"
   ]
  },
  {
   "cell_type": "code",
   "execution_count": 28,
   "id": "aab4249d",
   "metadata": {},
   "outputs": [
    {
     "data": {
      "text/html": [
       "<div>\n",
       "<style scoped>\n",
       "    .dataframe tbody tr th:only-of-type {\n",
       "        vertical-align: middle;\n",
       "    }\n",
       "\n",
       "    .dataframe tbody tr th {\n",
       "        vertical-align: top;\n",
       "    }\n",
       "\n",
       "    .dataframe thead th {\n",
       "        text-align: right;\n",
       "    }\n",
       "</style>\n",
       "<table border=\"1\" class=\"dataframe\">\n",
       "  <thead>\n",
       "    <tr style=\"text-align: right;\">\n",
       "      <th></th>\n",
       "      <th>Height [feet]</th>\n",
       "      <th>Weight [Kg]</th>\n",
       "    </tr>\n",
       "  </thead>\n",
       "  <tbody>\n",
       "    <tr>\n",
       "      <th>0</th>\n",
       "      <td>2.1</td>\n",
       "      <td>14.2</td>\n",
       "    </tr>\n",
       "    <tr>\n",
       "      <th>1</th>\n",
       "      <td>2.2</td>\n",
       "      <td>9.8</td>\n",
       "    </tr>\n",
       "    <tr>\n",
       "      <th>2</th>\n",
       "      <td>2.6</td>\n",
       "      <td>21.4</td>\n",
       "    </tr>\n",
       "    <tr>\n",
       "      <th>3</th>\n",
       "      <td>2.9</td>\n",
       "      <td>18.3</td>\n",
       "    </tr>\n",
       "    <tr>\n",
       "      <th>4</th>\n",
       "      <td>3.0</td>\n",
       "      <td>38.5</td>\n",
       "    </tr>\n",
       "    <tr>\n",
       "      <th>5</th>\n",
       "      <td>3.2</td>\n",
       "      <td>27.7</td>\n",
       "    </tr>\n",
       "    <tr>\n",
       "      <th>6</th>\n",
       "      <td>3.7</td>\n",
       "      <td>25.4</td>\n",
       "    </tr>\n",
       "    <tr>\n",
       "      <th>7</th>\n",
       "      <td>3.9</td>\n",
       "      <td>32.7</td>\n",
       "    </tr>\n",
       "    <tr>\n",
       "      <th>8</th>\n",
       "      <td>4.0</td>\n",
       "      <td>45.9</td>\n",
       "    </tr>\n",
       "    <tr>\n",
       "      <th>9</th>\n",
       "      <td>4.2</td>\n",
       "      <td>58.9</td>\n",
       "    </tr>\n",
       "    <tr>\n",
       "      <th>10</th>\n",
       "      <td>4.5</td>\n",
       "      <td>42.7</td>\n",
       "    </tr>\n",
       "    <tr>\n",
       "      <th>11</th>\n",
       "      <td>4.7</td>\n",
       "      <td>52.3</td>\n",
       "    </tr>\n",
       "    <tr>\n",
       "      <th>12</th>\n",
       "      <td>5.1</td>\n",
       "      <td>71.1</td>\n",
       "    </tr>\n",
       "    <tr>\n",
       "      <th>13</th>\n",
       "      <td>5.2</td>\n",
       "      <td>65.2</td>\n",
       "    </tr>\n",
       "    <tr>\n",
       "      <th>14</th>\n",
       "      <td>5.4</td>\n",
       "      <td>88.3</td>\n",
       "    </tr>\n",
       "    <tr>\n",
       "      <th>15</th>\n",
       "      <td>5.7</td>\n",
       "      <td>79.5</td>\n",
       "    </tr>\n",
       "    <tr>\n",
       "      <th>16</th>\n",
       "      <td>5.9</td>\n",
       "      <td>91.3</td>\n",
       "    </tr>\n",
       "    <tr>\n",
       "      <th>17</th>\n",
       "      <td>6.1</td>\n",
       "      <td>101.0</td>\n",
       "    </tr>\n",
       "    <tr>\n",
       "      <th>18</th>\n",
       "      <td>6.3</td>\n",
       "      <td>122.4</td>\n",
       "    </tr>\n",
       "    <tr>\n",
       "      <th>19</th>\n",
       "      <td>6.6</td>\n",
       "      <td>94.9</td>\n",
       "    </tr>\n",
       "    <tr>\n",
       "      <th>20</th>\n",
       "      <td>6.9</td>\n",
       "      <td>107.7</td>\n",
       "    </tr>\n",
       "    <tr>\n",
       "      <th>21</th>\n",
       "      <td>7.1</td>\n",
       "      <td>99.4</td>\n",
       "    </tr>\n",
       "    <tr>\n",
       "      <th>22</th>\n",
       "      <td>7.4</td>\n",
       "      <td>104.0</td>\n",
       "    </tr>\n",
       "    <tr>\n",
       "      <th>23</th>\n",
       "      <td>7.7</td>\n",
       "      <td>134.3</td>\n",
       "    </tr>\n",
       "    <tr>\n",
       "      <th>24</th>\n",
       "      <td>8.0</td>\n",
       "      <td>116.2</td>\n",
       "    </tr>\n",
       "  </tbody>\n",
       "</table>\n",
       "</div>"
      ],
      "text/plain": [
       "    Height [feet]  Weight [Kg]\n",
       "0             2.1         14.2\n",
       "1             2.2          9.8\n",
       "2             2.6         21.4\n",
       "3             2.9         18.3\n",
       "4             3.0         38.5\n",
       "5             3.2         27.7\n",
       "6             3.7         25.4\n",
       "7             3.9         32.7\n",
       "8             4.0         45.9\n",
       "9             4.2         58.9\n",
       "10            4.5         42.7\n",
       "11            4.7         52.3\n",
       "12            5.1         71.1\n",
       "13            5.2         65.2\n",
       "14            5.4         88.3\n",
       "15            5.7         79.5\n",
       "16            5.9         91.3\n",
       "17            6.1        101.0\n",
       "18            6.3        122.4\n",
       "19            6.6         94.9\n",
       "20            6.9        107.7\n",
       "21            7.1         99.4\n",
       "22            7.4        104.0\n",
       "23            7.7        134.3\n",
       "24            8.0        116.2"
      ]
     },
     "execution_count": 28,
     "metadata": {},
     "output_type": "execute_result"
    }
   ],
   "source": [
    "# loading data\n",
    "df = pd.read_csv(r\"C:\\Users\\prabh\\Desktop\\weight_data.csv\")\n",
    "x = df.iloc[:,:-1].values\n",
    "y = df.iloc[:,1].values\n",
    "df\n"
   ]
  },
  {
   "cell_type": "code",
   "execution_count": 29,
   "id": "4c1c88b0",
   "metadata": {},
   "outputs": [
    {
     "name": "stdout",
     "output_type": "stream",
     "text": [
      "x_train: [[4.5]\n",
      " [3.7]\n",
      " [3. ]\n",
      " [4.7]\n",
      " [7.4]\n",
      " [2.9]\n",
      " [4.2]\n",
      " [2.6]\n",
      " [5.2]\n",
      " [3.2]\n",
      " [5.4]\n",
      " [5.1]\n",
      " [7.1]\n",
      " [7.7]\n",
      " [8. ]\n",
      " [5.7]\n",
      " [6.6]\n",
      " [2.2]\n",
      " [6.9]\n",
      " [6.3]]\n",
      "x_test: [[2.1]\n",
      " [6.1]\n",
      " [4. ]\n",
      " [3.9]\n",
      " [5.9]]\n",
      "y_train: [ 42.7  25.4  38.5  52.3 104.   18.3  58.9  21.4  65.2  27.7  88.3  71.1\n",
      "  99.4 134.3 116.2  79.5  94.9   9.8 107.7 122.4]\n",
      "y_test: [ 14.2 101.   45.9  32.7  91.3]\n"
     ]
    }
   ],
   "source": [
    "# splitting data\n",
    "x_train,x_test,y_train,y_test = train_test_split(x,y,test_size=1/5)\n",
    "print('x_train:', x_train)\n",
    "print('x_test:', x_test)\n",
    "print('y_train:', y_train)\n",
    "print('y_test:', y_test)"
   ]
  },
  {
   "cell_type": "code",
   "execution_count": 30,
   "id": "380e240e",
   "metadata": {},
   "outputs": [
    {
     "data": {
      "image/png": "[encoded data removed]",
      "text/plain": [
       "<Figure size 432x288 with 1 Axes>"
      ]
     },
     "metadata": {
      "needs_background": "light"
     },
     "output_type": "display_data"
    }
   ],
   "source": [
    "plt.scatter(x,y, color='blue')\n",
    "plt.title('Simple Linear Regression')\n",
    "plt.xlabel('Height in Feets')\n",
    "plt.ylabel('Wight in kg')\n",
    "plt.show()"
   ]
  },
  {
   "cell_type": "code",
   "execution_count": 33,
   "id": "2a510a48",
   "metadata": {},
   "outputs": [
    {
     "name": "stdout",
     "output_type": "stream",
     "text": [
      "[20.26479602]\n"
     ]
    }
   ],
   "source": [
    "# training the model\n",
    "model = LinearRegression()\n",
    "model.fit(x_train,y_train)\n",
    "print(model.coef_)"
   ]
  },
  {
   "cell_type": "code",
   "execution_count": 34,
   "id": "30b24cd1",
   "metadata": {},
   "outputs": [
    {
     "data": {
      "image/png": "[encoded data removed]",
      "text/plain": [
       "<Figure size 432x288 with 1 Axes>"
      ]
     },
     "metadata": {
      "needs_background": "light"
     },
     "output_type": "display_data"
    }
   ],
   "source": [
    "plt.scatter(x,y, color='blue')\n",
    "plt.plot(x, model.predict(x), color= 'green')\n",
    "plt.title('Simple Linear Regression')\n",
    "plt.xlabel('Height in Feets')\n",
    "plt.ylabel('Wight in kg')\n",
    "plt.show()"
   ]
  },
  {
   "cell_type": "code",
   "execution_count": 36,
   "id": "ecc70397",
   "metadata": {},
   "outputs": [],
   "source": [
    "# prediction from the model\n",
    "predicted_result = model.predict(x_test)"
   ]
  },
  {
   "cell_type": "code",
   "execution_count": 38,
   "id": "425270a3",
   "metadata": {},
   "outputs": [
    {
     "name": "stdout",
     "output_type": "stream",
     "text": [
      "test height: [[2.1]\n",
      " [6.1]\n",
      " [4. ]\n",
      " [3.9]\n",
      " [5.9]]\n",
      "predicted weight: [ 7.70031603 88.7595001  46.20342846 44.17694886 84.70654089]\n"
     ]
    }
   ],
   "source": [
    "print('test height:', x_test)\n",
    "print('predicted weight:', predicted_result)"
   ]
  }
 ],
 "metadata": {
  "kernelspec": {
   "display_name": "Python 3 (ipykernel)",
   "language": "python",
   "name": "python3"
  },
  "language_info": {
   "codemirror_mode": {
    "name": "ipython",
    "version": 3
   },
   "file_extension": ".py",
   "mimetype": "text/x-python",
   "name": "python",
   "nbconvert_exporter": "python",
   "pygments_lexer": "ipython3",
   "version": "3.9.12"
  }
 },
 "nbformat": 4,
 "nbformat_minor": 5
}
